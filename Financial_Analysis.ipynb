{
  "nbformat": 4,
  "nbformat_minor": 0,
  "metadata": {
    "colab": {
      "name": "Financial Analysis.ipynb",
      "provenance": []
    },
    "kernelspec": {
      "name": "python3",
      "display_name": "Python 3"
    },
    "language_info": {
      "name": "python"
    }
  },
  "cells": [
    {
      "cell_type": "markdown",
      "metadata": {
        "id": "kopcxEbm8jCN"
      },
      "source": [
        "# **Stock Market Analysis for Tech Stocks**\n",
        "In this project, we'll analyse data from the stock market for some technology stocks.\n",
        "\n",
        "Again, we'll use Pandas to extract and analyse the information, visualise it, and look at different ways to analyse the risk of a stock, based on its performance history.\n",
        "\n",
        "Here are the questions we'll try to answer:"
      ]
    },
    {
      "cell_type": "code",
      "metadata": {
        "colab": {
          "base_uri": "https://localhost:8080/"
        },
        "id": "3PfkZs3aZiHb",
        "outputId": "4840f200-bf41-45d6-e2cb-e25be77ab43a"
      },
      "source": [
        "!pip install pandas-datareader"
      ],
      "execution_count": 2,
      "outputs": [
        {
          "output_type": "stream",
          "text": [
            "Requirement already satisfied: pandas-datareader in /usr/local/lib/python3.7/dist-packages (0.9.0)\n",
            "Requirement already satisfied: pandas>=0.23 in /usr/local/lib/python3.7/dist-packages (from pandas-datareader) (1.1.5)\n",
            "Requirement already satisfied: requests>=2.19.0 in /usr/local/lib/python3.7/dist-packages (from pandas-datareader) (2.23.0)\n",
            "Requirement already satisfied: lxml in /usr/local/lib/python3.7/dist-packages (from pandas-datareader) (4.2.6)\n",
            "Requirement already satisfied: pytz>=2017.2 in /usr/local/lib/python3.7/dist-packages (from pandas>=0.23->pandas-datareader) (2018.9)\n",
            "Requirement already satisfied: numpy>=1.15.4 in /usr/local/lib/python3.7/dist-packages (from pandas>=0.23->pandas-datareader) (1.19.5)\n",
            "Requirement already satisfied: python-dateutil>=2.7.3 in /usr/local/lib/python3.7/dist-packages (from pandas>=0.23->pandas-datareader) (2.8.1)\n",
            "Requirement already satisfied: six>=1.5 in /usr/local/lib/python3.7/dist-packages (from python-dateutil>=2.7.3->pandas>=0.23->pandas-datareader) (1.15.0)\n",
            "Requirement already satisfied: chardet<4,>=3.0.2 in /usr/local/lib/python3.7/dist-packages (from requests>=2.19.0->pandas-datareader) (3.0.4)\n",
            "Requirement already satisfied: certifi>=2017.4.17 in /usr/local/lib/python3.7/dist-packages (from requests>=2.19.0->pandas-datareader) (2021.5.30)\n",
            "Requirement already satisfied: urllib3!=1.25.0,!=1.25.1,<1.26,>=1.21.1 in /usr/local/lib/python3.7/dist-packages (from requests>=2.19.0->pandas-datareader) (1.24.3)\n",
            "Requirement already satisfied: idna<3,>=2.5 in /usr/local/lib/python3.7/dist-packages (from requests>=2.19.0->pandas-datareader) (2.10)\n"
          ],
          "name": "stdout"
        }
      ]
    },
    {
      "cell_type": "code",
      "metadata": {
        "id": "Um5ZQ_pW4rHj"
      },
      "source": [
        "#Python Data Analysis imports\n",
        "import pandas as pd\n",
        "from pandas import Series,DataFrame\n",
        "import numpy as np\n",
        "\n",
        "#Visualisation imports\n",
        "import matplotlib.pyplot as plt\n",
        "import seaborn as sns\n",
        "sns.set_style('whitegrid')\n",
        "%matplotlib inline\n",
        "\n",
        "#To grab stock data\n",
        "from pandas_datareader import data\n",
        "from datetime import datetime\n",
        "\n",
        "#To handle floats in Python 2\n",
        "from __future__ import division"
      ],
      "execution_count": 4,
      "outputs": []
    },
    {
      "cell_type": "markdown",
      "metadata": {
        "id": "48ZkEoDpt5bI"
      },
      "source": [
        "We're going to analyse some tech stocks, and it seems like a good idea to look at their performance over the last year. We can create a list with the stock names, for future looping."
      ]
    },
    {
      "cell_type": "code",
      "metadata": {
        "id": "RWnlTXanMEkd"
      },
      "source": [
        "#We're going to analyse stock info for Apple, Google, Microsoft, and Amazon\n",
        "tech_list = ['AAPL','GOOG','MSFT','AMZN','YHOO']"
      ],
      "execution_count": 5,
      "outputs": []
    },
    {
      "cell_type": "code",
      "metadata": {
        "id": "nlU9LSqNMUsH"
      },
      "source": [
        "#Setting the end date to today\n",
        "end = datetime.now()\n",
        "\n",
        "#Start date set to 1 year back\n",
        "start = datetime(end.year-1,end.month,end.day)"
      ],
      "execution_count": 6,
      "outputs": []
    },
    {
      "cell_type": "code",
      "metadata": {
        "id": "Un_D8GGVby7i"
      },
      "source": [
        "#Using Yahoo Finance to grab the stock data\n",
        "for stock in tech_list:\n",
        "    globals()[stock] = data.DataReader(stock,'yahoo',start,end) \n",
        "#The globals method sets the stock name to a global variable"
      ],
      "execution_count": null,
      "outputs": []
    },
    {
      "cell_type": "markdown",
      "metadata": {
        "id": "ifRzPZ3xy8q3"
      },
      "source": [
        "Thanks to the globals method, Apple's stock data will be stored in the AAPL global variable dataframe. Let's see if that worked."
      ]
    },
    {
      "cell_type": "code",
      "metadata": {
        "id": "srgaUnaUy-PF"
      },
      "source": [
        "AAPL.head()"
      ],
      "execution_count": null,
      "outputs": []
    },
    {
      "cell_type": "code",
      "metadata": {
        "id": "d1iNUrEjcm3P"
      },
      "source": [
        "#Basic stats for Apple's Stock\n",
        "AAPL.describe()"
      ],
      "execution_count": null,
      "outputs": []
    },
    {
      "cell_type": "markdown",
      "metadata": {
        "id": "0e_zSHEjc2bo"
      },
      "source": [
        "And that easily, we can make out what the stock's minimum, maximum, and average price was for the last year."
      ]
    },
    {
      "cell_type": "code",
      "metadata": {
        "id": "t5pCBoLSc7Kx"
      },
      "source": [
        "#Some basic info about the dataframe\n",
        "AAPL.info()"
      ],
      "execution_count": null,
      "outputs": []
    },
    {
      "cell_type": "markdown",
      "metadata": {
        "id": "EufaNo7gdPs3"
      },
      "source": [
        "**What's the change in stock's price over time?**"
      ]
    },
    {
      "cell_type": "code",
      "metadata": {
        "id": "kbSR74P2dUmn"
      },
      "source": [
        "#Plotting the stock's adjusted closing price using pandas\n",
        "AAPL['Adj Close'].plot(legend=True,figsize=(12,5))"
      ],
      "execution_count": null,
      "outputs": []
    },
    {
      "cell_type": "markdown",
      "metadata": {
        "id": "yyaJo2sbd6q3"
      },
      "source": [
        "Similarily, we can plot change in a stock's volume being traded, over time."
      ]
    },
    {
      "cell_type": "code",
      "metadata": {
        "id": "r50naxQGd0n3"
      },
      "source": [
        "#Plotting the total volume being traded over time\n",
        "AAPL['Volume'].plot(legend=True,figsize=(12,5))"
      ],
      "execution_count": null,
      "outputs": []
    },
    {
      "cell_type": "markdown",
      "metadata": {
        "id": "4jFDCHVLen5d"
      },
      "source": [
        "### **What was the moving average of various stocks?**\n",
        "Let's check out the moving average for stocks over a 10, 20 and 50 day period of time. We'll add that information to the stock's dataframe."
      ]
    },
    {
      "cell_type": "code",
      "metadata": {
        "id": "cRpsR7AXfN6E"
      },
      "source": [
        "ma_day = [10,20,50]\n",
        "\n",
        "for ma in ma_day:\n",
        "    column_name = \"MA for %s days\" %(str(ma))\n",
        "    \n",
        "    AAPL[column_name] = AAPL['Adj Close'].rolling(window=ma,center=False).mean()"
      ],
      "execution_count": null,
      "outputs": []
    },
    {
      "cell_type": "code",
      "metadata": {
        "id": "f9koA9cXfc-X"
      },
      "source": [
        "AAPL.tail()"
      ],
      "execution_count": null,
      "outputs": []
    },
    {
      "cell_type": "code",
      "metadata": {
        "id": "IMRKcjYDfkPH"
      },
      "source": [
        "AAPL[['Adj Close','MA for 10 days','MA for 20 days','MA for 50 days']].plot(subplots=False,figsize=(12,5))"
      ],
      "execution_count": null,
      "outputs": []
    },
    {
      "cell_type": "markdown",
      "metadata": {
        "id": "Ry4e4eeGnejn"
      },
      "source": [
        "\n",
        "Moving averages for more days have a smoother plot, as they're less reliable on daily fluctuations. So even though, Apple's stock has a slight dip near the start of September, it's generally been on an upward trend since mid-July.\n",
        "\n",
        "### **What was the daily return average of a stock?**"
      ]
    },
    {
      "cell_type": "code",
      "metadata": {
        "id": "jVzsOUHjnf3_"
      },
      "source": [
        "#The daily return column can be created by using the percentage change over the adjusted closing price\n",
        "AAPL['Daily Return'] = AAPL['Adj Close'].pct_change()"
      ],
      "execution_count": null,
      "outputs": []
    },
    {
      "cell_type": "code",
      "metadata": {
        "id": "miZOtdtQoeEw"
      },
      "source": [
        "AAPL['Daily Return'].tail()"
      ],
      "execution_count": null,
      "outputs": []
    },
    {
      "cell_type": "code",
      "metadata": {
        "id": "VGftdmNLoh29"
      },
      "source": [
        "#Plotting the daily return\n",
        "AAPL['Daily Return'].plot(figsize=(14,5),legend=True,linestyle='--',marker='o')"
      ],
      "execution_count": null,
      "outputs": []
    },
    {
      "cell_type": "code",
      "metadata": {
        "id": "gSZOWaWKozmU"
      },
      "source": [
        "sns.distplot(AAPL['Daily Return'].dropna(),bins=100,color='red')"
      ],
      "execution_count": null,
      "outputs": []
    },
    {
      "cell_type": "markdown",
      "metadata": {
        "id": "8-NZHAoAo3_l"
      },
      "source": [
        "Positive daily returns seem to be slightly more frequent than negative returns for Apple.\n",
        "\n",
        "### **What was the correlation between daily returns of different stocks?**"
      ]
    },
    {
      "cell_type": "code",
      "metadata": {
        "id": "cd0g_R30o4-l"
      },
      "source": [
        "#Reading just the 'Adj Close' column this time\n",
        "close_df = DataReader(tech_list,'yahoo',start,end)['Adj Close']"
      ],
      "execution_count": null,
      "outputs": []
    },
    {
      "cell_type": "code",
      "metadata": {
        "id": "akrcerCRpFzE"
      },
      "source": [
        "close_df.tail()"
      ],
      "execution_count": null,
      "outputs": []
    },
    {
      "cell_type": "code",
      "metadata": {
        "id": "Qex_sQ1cpIEk"
      },
      "source": [
        "rets_df = close_df.pct_change()"
      ],
      "execution_count": null,
      "outputs": []
    },
    {
      "cell_type": "code",
      "metadata": {
        "id": "UnOdKM1IpRA8"
      },
      "source": [
        "rets_df.tail()"
      ],
      "execution_count": null,
      "outputs": []
    },
    {
      "cell_type": "code",
      "metadata": {
        "id": "I2OX5RMep0o0"
      },
      "source": [
        "sns.jointplot('GOOG','GOOG',rets_df,kind='scatter',color='green')"
      ],
      "execution_count": null,
      "outputs": []
    },
    {
      "cell_type": "markdown",
      "metadata": {
        "id": "l8QPnfK4p35R"
      },
      "source": [
        "As expected, the relationship is perfectly linear because we're trying to correlate something with itself. Now, let's check out the relationship between Google and Apple's daily returns."
      ]
    },
    {
      "cell_type": "code",
      "metadata": {
        "id": "YawLqAi4p4u1"
      },
      "source": [
        "sns.jointplot('GOOG','AAPL',rets_df,kind='scatter')"
      ],
      "execution_count": null,
      "outputs": []
    },
    {
      "cell_type": "code",
      "metadata": {
        "id": "ZBLzrshXp_Yn"
      },
      "source": [
        "sns.pairplot(rets_df.dropna())"
      ],
      "execution_count": null,
      "outputs": []
    },
    {
      "cell_type": "code",
      "metadata": {
        "id": "gTKB4NMJqE2c"
      },
      "source": [
        "sns.corrplot(rets_df.dropna(),annot=True)"
      ],
      "execution_count": null,
      "outputs": []
    },
    {
      "cell_type": "markdown",
      "metadata": {
        "id": "upNUq41LqPLP"
      },
      "source": [
        "### **How much value do we put at risk by investing in a particular stock?**\n",
        "\n",
        "A basic way to quantify risk is to compare the expected return (which can be the mean of the stock's daily returns) with the standard deviation of the daily returns."
      ]
    },
    {
      "cell_type": "code",
      "metadata": {
        "id": "0ThonWa4qROO"
      },
      "source": [
        "rets = rets_df.dropna()"
      ],
      "execution_count": null,
      "outputs": []
    },
    {
      "cell_type": "code",
      "metadata": {
        "id": "133THnJntxy3"
      },
      "source": [
        "plt.figure(figsize=(8,5))\n",
        "\n",
        "plt.scatter(rets.mean(),rets.std(),s=25)\n",
        "\n",
        "plt.xlabel('Expected Return')\n",
        "plt.ylabel('Risk')\n",
        "\n",
        "\n",
        "#For adding annotatios in the scatterplot\n",
        "for label,x,y in zip(rets.columns,rets.mean(),rets.std()):\n",
        "    plt.annotate(\n",
        "    label,\n",
        "    xy=(x,y),xytext=(-120,20),\n",
        "    textcoords = 'offset points', ha = 'right', va = 'bottom',\n",
        "    arrowprops = dict(arrowstyle='->',connectionstyle = 'arc3,rad=-0.5'))"
      ],
      "execution_count": null,
      "outputs": []
    },
    {
      "cell_type": "markdown",
      "metadata": {
        "id": "hK4X-FA8t1yb"
      },
      "source": [
        "We'd want a stock to have a high expected return and a low risk; Google and Microsoft seem to be the safe options for that. Meanwhile, Yahoo and Amazon stocks have higher expected returns, but also have a higher risk\n",
        "\n",
        "### **Value at Risk**\n",
        "We can treat Value at risk as the amount of money we could expect to lose for a given confidence interval. We'll use the 'Bootstrap' method and the 'Monte Carlo Method' to extract this value.\n",
        "\n",
        "### **Bootstrap Method**\n",
        "\n",
        "Using this method, we calculate the empirical quantiles from a histogram of daily returns. The quantiles help us define our confidence interval."
      ]
    },
    {
      "cell_type": "code",
      "metadata": {
        "id": "UxUN0xg8t9xe"
      },
      "source": [
        "sns.distplot(AAPL['Daily Return'].dropna(),bins=100,color='purple')"
      ],
      "execution_count": null,
      "outputs": []
    },
    {
      "cell_type": "markdown",
      "metadata": {
        "id": "TF49IMINuEMb"
      },
      "source": [
        "To recap, our histogram for Apple's stock looked like the above. And our daily returns dataframe looked like:"
      ]
    },
    {
      "cell_type": "code",
      "metadata": {
        "id": "lFnI1Z19uFVk"
      },
      "source": [
        "rets.head()"
      ],
      "execution_count": null,
      "outputs": []
    },
    {
      "cell_type": "code",
      "metadata": {
        "id": "Gy7gi-e2uJyL"
      },
      "source": [
        "#Using Pandas built in qualtile method\n",
        "rets['AAPL'].quantile(0.05)"
      ],
      "execution_count": null,
      "outputs": []
    },
    {
      "cell_type": "markdown",
      "metadata": {
        "id": "GdZhJHFxueIb"
      },
      "source": [
        "The 0.05 empirical quantile of daily returns is at -0.019. This means that with 95% confidence, the worst daily loss will not exceed 2.57% (of the investment).\n",
        "\n",
        "### **How can we attempt to predict future stock behaviour?**\n",
        "**Monte Carlo Method**\n",
        "\n",
        "Check out this link for more info on the Monte Carlo method. In short: in this method, we run simulations to predict the future many times, and aggregate the results in the end for some quantifiable value."
      ]
    },
    {
      "cell_type": "code",
      "metadata": {
        "id": "3t3ezH71uaeU"
      },
      "source": [
        "days = 365\n",
        "\n",
        "#delta t\n",
        "dt = 1/365\n",
        "\n",
        "mu = rets.mean()['GOOG']\n",
        "\n",
        "sigma = rets.std()['GOOG']"
      ],
      "execution_count": null,
      "outputs": []
    },
    {
      "cell_type": "code",
      "metadata": {
        "id": "dpy5px-Suoty"
      },
      "source": [
        "#Function takes in stock price, number of days to run, mean and standard deviation values\n",
        "def stock_monte_carlo(start_price,days,mu,sigma):\n",
        "    \n",
        "    price = np.zeros(days)\n",
        "    price[0] = start_price\n",
        "    \n",
        "    shock = np.zeros(days)\n",
        "    drift = np.zeros(days)\n",
        "    \n",
        "    for x in xrange(1,days):\n",
        "        \n",
        "        #Shock and drift formulas taken from the Monte Carlo formula\n",
        "        shock[x] = np.random.normal(loc=mu*dt,scale=sigma*np.sqrt(dt))\n",
        "        \n",
        "        drift[x] = mu * dt\n",
        "        \n",
        "        #New price = Old price + Old price*(shock+drift)\n",
        "        price[x] = price[x-1] + (price[x-1] * (drift[x]+shock[x]))\n",
        "        \n",
        "    return price"
      ],
      "execution_count": null,
      "outputs": []
    },
    {
      "cell_type": "code",
      "metadata": {
        "id": "YbuRFYodus7z"
      },
      "source": [
        "GOOG.head()"
      ],
      "execution_count": null,
      "outputs": []
    },
    {
      "cell_type": "markdown",
      "metadata": {
        "id": "qiP0yGf1uxAz"
      },
      "source": [
        "\n",
        "Let's do a simulation of 100 runs, and plot them."
      ]
    },
    {
      "cell_type": "code",
      "metadata": {
        "id": "W_MfWo4nu1N7"
      },
      "source": [
        "start_price = 622.049 #Taken from above\n",
        "\n",
        "for run in xrange(100):\n",
        "    plt.plot(stock_monte_carlo(start_price,days,mu,sigma))\n",
        "\n",
        "plt.xlabel('Days')\n",
        "plt.ylabel('Price')\n",
        "plt.title('Monte Carlo Analysis for Google')"
      ],
      "execution_count": null,
      "outputs": []
    },
    {
      "cell_type": "code",
      "metadata": {
        "id": "vR9-VCgyu4ZU"
      },
      "source": [
        "runs = 10000\n",
        "\n",
        "simulations = np.zeros(runs)\n",
        "\n",
        "for run in xrange(runs):\n",
        "    simulations[run] = stock_monte_carlo(start_price,days,mu,sigma)[days-1]"
      ],
      "execution_count": null,
      "outputs": []
    },
    {
      "cell_type": "code",
      "metadata": {
        "id": "tx-WJc-Du7ik"
      },
      "source": [
        "q = np.percentile(simulations,1)\n",
        "\n",
        "plt.hist(simulations,bins=200)\n",
        "\n",
        "plt.figtext(0.6,0.8,s=\"Start price: $%.2f\" %start_price)\n",
        "\n",
        "plt.figtext(0.6,0.7,\"Mean final price: $%.2f\" % simulations.mean())\n",
        "\n",
        "plt.figtext(0.6,0.6,\"VaR(0.99): $%.2f\" % (start_price -q,))\n",
        "\n",
        "plt.figtext(0.15,0.6, \"q(0.99): $%.2f\" % q)\n",
        "\n",
        "plt.axvline(x=q, linewidth=4, color='r')\n",
        "\n",
        "plt.title(u\"Final price distribution for Google Stock after %s days\" %days, weight='bold')"
      ],
      "execution_count": null,
      "outputs": []
    }
  ]
}